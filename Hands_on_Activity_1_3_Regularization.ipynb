{
  "cells": [
    {
      "cell_type": "markdown",
      "id": "frozen-passport",
      "metadata": {
        "id": "frozen-passport"
      },
      "source": [
        "# Activity 1.3 : Regularization"
      ]
    },
    {
      "cell_type": "markdown",
      "source": [
        "Ma Jenica Rose E. Mogate\n",
        "\n",
        "CpE32S8\n",
        "\n"
      ],
      "metadata": {
        "id": "KrtKGJZJ6e6S"
      },
      "id": "KrtKGJZJ6e6S"
    },
    {
      "cell_type": "markdown",
      "id": "downtown-relay",
      "metadata": {
        "id": "downtown-relay"
      },
      "source": [
        "#### Objective(s):\n",
        "\n",
        "This activity aims to demonstrate how to apply  regularization in neural networks"
      ]
    },
    {
      "cell_type": "markdown",
      "id": "weird-journal",
      "metadata": {
        "id": "weird-journal"
      },
      "source": [
        "#### Intended Learning Outcomes (ILOs):\n",
        "* Demonstrate how to build and train neural networks with regularization\n",
        "* Demonstrate how to visualize the model with regularization\n",
        "* Evaluate the result of model with regularization\n"
      ]
    },
    {
      "cell_type": "markdown",
      "id": "returning-harvard",
      "metadata": {
        "id": "returning-harvard"
      },
      "source": [
        "#### Resources:\n",
        "* Jupyter Notebook\n",
        "* MNIST\n"
      ]
    },
    {
      "cell_type": "markdown",
      "id": "virgin-webcam",
      "metadata": {
        "id": "virgin-webcam"
      },
      "source": [
        "#### Procedures\n",
        "Load the necessary libraries"
      ]
    },
    {
      "cell_type": "code",
      "execution_count": 1,
      "id": "changing-emergency",
      "metadata": {
        "id": "changing-emergency"
      },
      "outputs": [],
      "source": [
        "from __future__ import print_function\n",
        "\n",
        "import keras\n",
        "from keras.datasets import mnist\n",
        "from keras.models import Sequential\n",
        "from keras.layers import Dense, Dropout\n",
        "from keras.optimizers import RMSprop\n",
        "\n",
        "import numpy as np\n",
        "import matplotlib.pyplot as plt\n",
        "%matplotlib inline"
      ]
    },
    {
      "cell_type": "markdown",
      "id": "central-drama",
      "metadata": {
        "id": "central-drama"
      },
      "source": [
        "Load the data, shuffled and split between train and test sets"
      ]
    },
    {
      "cell_type": "code",
      "execution_count": 2,
      "id": "egyptian-driving",
      "metadata": {
        "id": "egyptian-driving",
        "colab": {
          "base_uri": "https://localhost:8080/"
        },
        "outputId": "969ac3b4-70db-4576-9c02-77e585ac88af"
      },
      "outputs": [
        {
          "output_type": "stream",
          "name": "stdout",
          "text": [
            "Downloading data from https://storage.googleapis.com/tensorflow/tf-keras-datasets/mnist.npz\n",
            "11490434/11490434 [==============================] - 0s 0us/step\n"
          ]
        }
      ],
      "source": [
        "(x_train, y_train), (x_test, y_test) = mnist.load_data()"
      ]
    },
    {
      "cell_type": "markdown",
      "id": "creative-cricket",
      "metadata": {
        "id": "creative-cricket"
      },
      "source": [
        "Get the size of the sample train data"
      ]
    },
    {
      "cell_type": "code",
      "execution_count": 3,
      "id": "instrumental-funds",
      "metadata": {
        "id": "instrumental-funds",
        "colab": {
          "base_uri": "https://localhost:8080/"
        },
        "outputId": "1caeb25f-1d89-468c-8f5e-b2a49681583c"
      },
      "outputs": [
        {
          "output_type": "execute_result",
          "data": {
            "text/plain": [
              "(28, 28)"
            ]
          },
          "metadata": {},
          "execution_count": 3
        }
      ],
      "source": [
        "x_train[0].shape"
      ]
    },
    {
      "cell_type": "markdown",
      "id": "atmospheric-carol",
      "metadata": {
        "id": "atmospheric-carol"
      },
      "source": [
        "Check the sample train data"
      ]
    },
    {
      "cell_type": "code",
      "execution_count": 4,
      "id": "mental-johnston",
      "metadata": {
        "id": "mental-johnston",
        "colab": {
          "base_uri": "https://localhost:8080/",
          "height": 69
        },
        "outputId": "0ac461e4-6b79-4a34-a450-8d759bbf271e"
      },
      "outputs": [
        {
          "output_type": "execute_result",
          "data": {
            "text/plain": [
              "array([[  0,   0,   0,   0,   0,   0,   0,   0,   0,   0,   0,   0,   0,\n",
              "          0,   0,   0,   0,   0,   0,   0,   0,   0,   0,   0,   0,   0,\n",
              "          0,   0],\n",
              "       [  0,   0,   0,   0,   0,   0,   0,   0,   0,   0,   0,   0,   0,\n",
              "          0,   0,   0,   0,   0,   0,   0,   0,   0,   0,   0,   0,   0,\n",
              "          0,   0],\n",
              "       [  0,   0,   0,   0,   0,   0,   0,   0,   0,   0,   0,   0,   0,\n",
              "          0,   0,   0,   0,   0,   0,   0,   0,   0,   0,   0,   0,   0,\n",
              "          0,   0],\n",
              "       [  0,   0,   0,   0,   0,   0,   0,   0,   0,   0,   0,   0,   0,\n",
              "          0,   0,   0,   0,   0,   0,   0,   0,   0,   0,   0,   0,   0,\n",
              "          0,   0],\n",
              "       [  0,   0,   0,   0,   0,   0,   0,   0,   0,   0,   0,   0,   0,\n",
              "          0,   0,   0,   0,   0,   0,   0,   0,   0,   0,   0,   0,   0,\n",
              "          0,   0],\n",
              "       [  0,   0,   0,   0,   0,   0,   0,   0,   0,   0,   0,  87, 138,\n",
              "        170, 253, 201, 244, 212, 222, 138,  86,  22,   0,   0,   0,   0,\n",
              "          0,   0],\n",
              "       [  0,   0,   0,   0,   0,   0,   0,   0,   0,   0,  95, 253, 252,\n",
              "        252, 252, 252, 253, 252, 252, 252, 252, 245,  80,   0,   0,   0,\n",
              "          0,   0],\n",
              "       [  0,   0,   0,   0,   0,   0,   0,   0,   0,  68, 246, 205,  69,\n",
              "         69,  69,  69,  69,  69,  69,  69, 205, 253, 240,  50,   0,   0,\n",
              "          0,   0],\n",
              "       [  0,   0,   0,   0,   0,   0,   0,   0,   0, 187, 252, 218,  34,\n",
              "          0,   0,   0,   0,   0,   0,   0, 116, 253, 252,  69,   0,   0,\n",
              "          0,   0],\n",
              "       [  0,   0,   0,   0,   0,   0,   0,   0, 116, 248, 252, 253,  92,\n",
              "          0,   0,   0,   0,   0,   0,  95, 230, 253, 157,   6,   0,   0,\n",
              "          0,   0],\n",
              "       [  0,   0,   0,   0,   0,   0,   0,   0, 116, 249, 253, 189,  42,\n",
              "          0,   0,   0,   0,  36, 170, 253, 243, 158,   0,   0,   0,   0,\n",
              "          0,   0],\n",
              "       [  0,   0,   0,   0,   0,   0,   0,   0,   0, 133, 252, 245, 140,\n",
              "         34,   0,   0,  57, 219, 252, 235,  60,   0,   0,   0,   0,   0,\n",
              "          0,   0],\n",
              "       [  0,   0,   0,   0,   0,   0,   0,   0,   0,  25, 205, 253, 252,\n",
              "        234, 184, 184, 253, 240, 100,  44,   0,   0,   0,   0,   0,   0,\n",
              "          0,   0],\n",
              "       [  0,   0,   0,   0,   0,   0,   0,   0,   0,   0,  21, 161, 219,\n",
              "        252, 252, 252, 234,  37,   0,   0,   0,   0,   0,   0,   0,   0,\n",
              "          0,   0],\n",
              "       [  0,   0,   0,   0,   0,   0,   0,   0,   0,   0,   0,  11, 203,\n",
              "        252, 252, 252, 251, 135,   0,   0,   0,   0,   0,   0,   0,   0,\n",
              "          0,   0],\n",
              "       [  0,   0,   0,   0,   0,   0,   0,   0,   0,   9,  76, 255, 253,\n",
              "        205, 168, 220, 255, 253, 137,   5,   0,   0,   0,   0,   0,   0,\n",
              "          0,   0],\n",
              "       [  0,   0,   0,   0,   0,   0,   0,   0,   0, 114, 252, 249, 132,\n",
              "         25,   0,   0, 180, 252, 252,  45,   0,   0,   0,   0,   0,   0,\n",
              "          0,   0],\n",
              "       [  0,   0,   0,   0,   0,   0,   0,   0,  51, 220, 252, 199,   0,\n",
              "          0,   0,   0,  38, 186, 252, 154,   7,   0,   0,   0,   0,   0,\n",
              "          0,   0],\n",
              "       [  0,   0,   0,   0,   0,   0,   0,   0, 184, 252, 252,  21,   0,\n",
              "          0,   0,   0,   0,  67, 252, 252,  22,   0,   0,   0,   0,   0,\n",
              "          0,   0],\n",
              "       [  0,   0,   0,   0,   0,   0,   0,   0, 184, 252, 200,   0,   0,\n",
              "          0,   0,   0,   0,  47, 252, 252,  22,   0,   0,   0,   0,   0,\n",
              "          0,   0],\n",
              "       [  0,   0,   0,   0,   0,   0,   0,   0, 185, 253, 201,   0,   0,\n",
              "          0,   0,   0,   3, 118, 253, 245,  21,   0,   0,   0,   0,   0,\n",
              "          0,   0],\n",
              "       [  0,   0,   0,   0,   0,   0,   0,   0, 163, 252, 252,   0,   0,\n",
              "          0,   0,   0,  97, 252, 252,  87,   0,   0,   0,   0,   0,   0,\n",
              "          0,   0],\n",
              "       [  0,   0,   0,   0,   0,   0,   0,   0,  51, 240, 252, 123,  70,\n",
              "         70, 112, 184, 222, 252, 170,  13,   0,   0,   0,   0,   0,   0,\n",
              "          0,   0],\n",
              "       [  0,   0,   0,   0,   0,   0,   0,   0,   0, 165, 252, 253, 252,\n",
              "        252, 252, 252, 245, 139,  13,   0,   0,   0,   0,   0,   0,   0,\n",
              "          0,   0],\n",
              "       [  0,   0,   0,   0,   0,   0,   0,   0,   0,   9,  75, 253, 252,\n",
              "        221, 137, 137,  21,   0,   0,   0,   0,   0,   0,   0,   0,   0,\n",
              "          0,   0],\n",
              "       [  0,   0,   0,   0,   0,   0,   0,   0,   0,   0,   0,   0,   0,\n",
              "          0,   0,   0,   0,   0,   0,   0,   0,   0,   0,   0,   0,   0,\n",
              "          0,   0],\n",
              "       [  0,   0,   0,   0,   0,   0,   0,   0,   0,   0,   0,   0,   0,\n",
              "          0,   0,   0,   0,   0,   0,   0,   0,   0,   0,   0,   0,   0,\n",
              "          0,   0],\n",
              "       [  0,   0,   0,   0,   0,   0,   0,   0,   0,   0,   0,   0,   0,\n",
              "          0,   0,   0,   0,   0,   0,   0,   0,   0,   0,   0,   0,   0,\n",
              "          0,   0]], dtype=uint8)"
            ],
            "text/html": [
              "<style>\n",
              "      .ndarray_repr .ndarray_raw_data {\n",
              "        display: none;\n",
              "      }\n",
              "      .ndarray_repr.show_array .ndarray_raw_data {\n",
              "        display: block;\n",
              "      }\n",
              "      .ndarray_repr.show_array .ndarray_image_preview {\n",
              "        display: none;\n",
              "      }\n",
              "      </style>\n",
              "      <div id=\"id-20439688-2481-474f-8ca5-2e1dfa741d1e\" class=\"ndarray_repr\"><pre>ndarray (28, 28) <button style=\"padding: 0 2px;\">show data</button></pre><img src=\"data:image/png;base64,iVBORw0KGgoAAAANSUhEUgAAABwAAAAcCAAAAABXZoBIAAABJElEQVR4nM2RO0sDURCFz/qIRE0lK6QTUQsfGEglWKnEQgvBIo0ggj9ARFCwVXTRXyAoiAgSrMRiEQQ7Cze2FnlgZbGxCISAi2dYiyyJufeWFk51mG/mMIcB/llZv3Q2PbTqTbz33npPvjq3LiQpJFlfUTYX7t72Inmcqs29Auhqwt1YolRuyOlU/0Cb6c4XZS3y/5DzWDsM5HEcAEZyUrtQ7zlk/XQYmCmwMquFSuaFvutKdXPSENm+LJD0Rw0IQN8Lye8jE4ovh5K/KYbidOtwm8FBErgnpzSWLvIZAMYeeNajQpe0AQDz5GDU62hhrwIA+Gx1mtCyGj/oXLSCULW9IgEAG2RWP6jK/Uxmyy0zl9CjXEd/PjEwxJeEJcexDeiP6wefW3R9pZ+EHwAAAABJRU5ErkJggg==\" class=\"ndarray_image_preview\" /><pre class=\"ndarray_raw_data\">array([[  0,   0,   0,   0,   0,   0,   0,   0,   0,   0,   0,   0,   0,\n",
              "          0,   0,   0,   0,   0,   0,   0,   0,   0,   0,   0,   0,   0,\n",
              "          0,   0],\n",
              "       [  0,   0,   0,   0,   0,   0,   0,   0,   0,   0,   0,   0,   0,\n",
              "          0,   0,   0,   0,   0,   0,   0,   0,   0,   0,   0,   0,   0,\n",
              "          0,   0],\n",
              "       [  0,   0,   0,   0,   0,   0,   0,   0,   0,   0,   0,   0,   0,\n",
              "          0,   0,   0,   0,   0,   0,   0,   0,   0,   0,   0,   0,   0,\n",
              "          0,   0],\n",
              "       [  0,   0,   0,   0,   0,   0,   0,   0,   0,   0,   0,   0,   0,\n",
              "          0,   0,   0,   0,   0,   0,   0,   0,   0,   0,   0,   0,   0,\n",
              "          0,   0],\n",
              "       [  0,   0,   0,   0,   0,   0,   0,   0,   0,   0,   0,   0,   0,\n",
              "          0,   0,   0,   0,   0,   0,   0,   0,   0,   0,   0,   0,   0,\n",
              "          0,   0],\n",
              "       [  0,   0,   0,   0,   0,   0,   0,   0,   0,   0,   0,  87, 138,\n",
              "        170, 253, 201, 244, 212, 222, 138,  86,  22,   0,   0,   0,   0,\n",
              "          0,   0],\n",
              "       [  0,   0,   0,   0,   0,   0,   0,   0,   0,   0,  95, 253, 252,\n",
              "        252, 252, 252, 253, 252, 252, 252, 252, 245,  80,   0,   0,   0,\n",
              "          0,   0],\n",
              "       [  0,   0,   0,   0,   0,   0,   0,   0,   0,  68, 246, 205,  69,\n",
              "         69,  69,  69,  69,  69,  69,  69, 205, 253, 240,  50,   0,   0,\n",
              "          0,   0],\n",
              "       [  0,   0,   0,   0,   0,   0,   0,   0,   0, 187, 252, 218,  34,\n",
              "          0,   0,   0,   0,   0,   0,   0, 116, 253, 252,  69,   0,   0,\n",
              "          0,   0],\n",
              "       [  0,   0,   0,   0,   0,   0,   0,   0, 116, 248, 252, 253,  92,\n",
              "          0,   0,   0,   0,   0,   0,  95, 230, 253, 157,   6,   0,   0,\n",
              "          0,   0],\n",
              "       [  0,   0,   0,   0,   0,   0,   0,   0, 116, 249, 253, 189,  42,\n",
              "          0,   0,   0,   0,  36, 170, 253, 243, 158,   0,   0,   0,   0,\n",
              "          0,   0],\n",
              "       [  0,   0,   0,   0,   0,   0,   0,   0,   0, 133, 252, 245, 140,\n",
              "         34,   0,   0,  57, 219, 252, 235,  60,   0,   0,   0,   0,   0,\n",
              "          0,   0],\n",
              "       [  0,   0,   0,   0,   0,   0,   0,   0,   0,  25, 205, 253, 252,\n",
              "        234, 184, 184, 253, 240, 100,  44,   0,   0,   0,   0,   0,   0,\n",
              "          0,   0],\n",
              "       [  0,   0,   0,   0,   0,   0,   0,   0,   0,   0,  21, 161, 219,\n",
              "        252, 252, 252, 234,  37,   0,   0,   0,   0,   0,   0,   0,   0,\n",
              "          0,   0],\n",
              "       [  0,   0,   0,   0,   0,   0,   0,   0,   0,   0,   0,  11, 203,\n",
              "        252, 252, 252, 251, 135,   0,   0,   0,   0,   0,   0,   0,   0,\n",
              "          0,   0],\n",
              "       [  0,   0,   0,   0,   0,   0,   0,   0,   0,   9,  76, 255, 253,\n",
              "        205, 168, 220, 255, 253, 137,   5,   0,   0,   0,   0,   0,   0,\n",
              "          0,   0],\n",
              "       [  0,   0,   0,   0,   0,   0,   0,   0,   0, 114, 252, 249, 132,\n",
              "         25,   0,   0, 180, 252, 252,  45,   0,   0,   0,   0,   0,   0,\n",
              "          0,   0],\n",
              "       [  0,   0,   0,   0,   0,   0,   0,   0,  51, 220, 252, 199,   0,\n",
              "          0,   0,   0,  38, 186, 252, 154,   7,   0,   0,   0,   0,   0,\n",
              "          0,   0],\n",
              "       [  0,   0,   0,   0,   0,   0,   0,   0, 184, 252, 252,  21,   0,\n",
              "          0,   0,   0,   0,  67, 252, 252,  22,   0,   0,   0,   0,   0,\n",
              "          0,   0],\n",
              "       [  0,   0,   0,   0,   0,   0,   0,   0, 184, 252, 200,   0,   0,\n",
              "          0,   0,   0,   0,  47, 252, 252,  22,   0,   0,   0,   0,   0,\n",
              "          0,   0],\n",
              "       [  0,   0,   0,   0,   0,   0,   0,   0, 185, 253, 201,   0,   0,\n",
              "          0,   0,   0,   3, 118, 253, 245,  21,   0,   0,   0,   0,   0,\n",
              "          0,   0],\n",
              "       [  0,   0,   0,   0,   0,   0,   0,   0, 163, 252, 252,   0,   0,\n",
              "          0,   0,   0,  97, 252, 252,  87,   0,   0,   0,   0,   0,   0,\n",
              "          0,   0],\n",
              "       [  0,   0,   0,   0,   0,   0,   0,   0,  51, 240, 252, 123,  70,\n",
              "         70, 112, 184, 222, 252, 170,  13,   0,   0,   0,   0,   0,   0,\n",
              "          0,   0],\n",
              "       [  0,   0,   0,   0,   0,   0,   0,   0,   0, 165, 252, 253, 252,\n",
              "        252, 252, 252, 245, 139,  13,   0,   0,   0,   0,   0,   0,   0,\n",
              "          0,   0],\n",
              "       [  0,   0,   0,   0,   0,   0,   0,   0,   0,   9,  75, 253, 252,\n",
              "        221, 137, 137,  21,   0,   0,   0,   0,   0,   0,   0,   0,   0,\n",
              "          0,   0],\n",
              "       [  0,   0,   0,   0,   0,   0,   0,   0,   0,   0,   0,   0,   0,\n",
              "          0,   0,   0,   0,   0,   0,   0,   0,   0,   0,   0,   0,   0,\n",
              "          0,   0],\n",
              "       [  0,   0,   0,   0,   0,   0,   0,   0,   0,   0,   0,   0,   0,\n",
              "          0,   0,   0,   0,   0,   0,   0,   0,   0,   0,   0,   0,   0,\n",
              "          0,   0],\n",
              "       [  0,   0,   0,   0,   0,   0,   0,   0,   0,   0,   0,   0,   0,\n",
              "          0,   0,   0,   0,   0,   0,   0,   0,   0,   0,   0,   0,   0,\n",
              "          0,   0]], dtype=uint8)</pre></div><script>\n",
              "      (() => {\n",
              "      const titles = ['show data', 'hide data'];\n",
              "      let index = 0\n",
              "      document.querySelector('#id-20439688-2481-474f-8ca5-2e1dfa741d1e button').onclick = (e) => {\n",
              "        document.querySelector('#id-20439688-2481-474f-8ca5-2e1dfa741d1e').classList.toggle('show_array');\n",
              "        index = (++index) % 2;\n",
              "        document.querySelector('#id-20439688-2481-474f-8ca5-2e1dfa741d1e button').textContent = titles[index];\n",
              "        e.preventDefault();\n",
              "        e.stopPropagation();\n",
              "      }\n",
              "      })();\n",
              "    </script>"
            ]
          },
          "metadata": {},
          "execution_count": 4
        }
      ],
      "source": [
        "x_train[333]"
      ]
    },
    {
      "cell_type": "markdown",
      "id": "compact-disposal",
      "metadata": {
        "id": "compact-disposal"
      },
      "source": [
        "Check the corresponding label in the training set"
      ]
    },
    {
      "cell_type": "code",
      "execution_count": 5,
      "id": "cutting-gentleman",
      "metadata": {
        "id": "cutting-gentleman",
        "colab": {
          "base_uri": "https://localhost:8080/"
        },
        "outputId": "3a0375b5-0d99-4f05-c1ae-2f8e482f1026"
      },
      "outputs": [
        {
          "output_type": "execute_result",
          "data": {
            "text/plain": [
              "8"
            ]
          },
          "metadata": {},
          "execution_count": 5
        }
      ],
      "source": [
        "y_train[333]"
      ]
    },
    {
      "cell_type": "markdown",
      "source": [
        "Check the actual image"
      ],
      "metadata": {
        "id": "NRS8C9bk7D6b"
      },
      "id": "NRS8C9bk7D6b"
    },
    {
      "cell_type": "code",
      "execution_count": 6,
      "id": "tight-motivation",
      "metadata": {
        "id": "tight-motivation",
        "colab": {
          "base_uri": "https://localhost:8080/",
          "height": 447
        },
        "outputId": "a865e65c-31da-4640-bd95-64056fbad75f"
      },
      "outputs": [
        {
          "output_type": "execute_result",
          "data": {
            "text/plain": [
              "<matplotlib.image.AxesImage at 0x7c7246396710>"
            ]
          },
          "metadata": {},
          "execution_count": 6
        },
        {
          "output_type": "display_data",
          "data": {
            "text/plain": [
              "<Figure size 640x480 with 1 Axes>"
            ],
            "image/png": "[encoded data removed]"
          },
          "metadata": {}
        }
      ],
      "source": [
        "plt.imshow(x_train[333], cmap='Greys_r')"
      ]
    },
    {
      "cell_type": "markdown",
      "id": "brutal-young",
      "metadata": {
        "id": "brutal-young"
      },
      "source": [
        "Check the shape of the x_train and x_test"
      ]
    },
    {
      "cell_type": "code",
      "execution_count": 7,
      "id": "residential-rouge",
      "metadata": {
        "id": "residential-rouge",
        "colab": {
          "base_uri": "https://localhost:8080/"
        },
        "outputId": "1728b790-4638-4471-e07d-a5b33515891c"
      },
      "outputs": [
        {
          "output_type": "stream",
          "name": "stdout",
          "text": [
            "(60000, 28, 28) train samples\n",
            "(10000, 28, 28) test samples\n"
          ]
        }
      ],
      "source": [
        "print(x_train.shape, 'train samples')\n",
        "print(x_test.shape, 'test samples')"
      ]
    },
    {
      "cell_type": "markdown",
      "id": "secret-parameter",
      "metadata": {
        "id": "secret-parameter"
      },
      "source": [
        "* Convert the x_train and x_test\n",
        "* Cast the numbers to floats\n",
        "* Normalize the inputs"
      ]
    },
    {
      "cell_type": "code",
      "execution_count": 8,
      "id": "intense-daisy",
      "metadata": {
        "id": "intense-daisy"
      },
      "outputs": [],
      "source": [
        "x_train = x_train.reshape(len(x_train), 28*28)\n",
        "x_test = x_test.reshape(len(x_test), 28*28)\n",
        "\n",
        "\n",
        "x_train = x_train.astype('float32')\n",
        "x_test = x_test.astype('float32')\n",
        "\n",
        "\n",
        "x_train /= 255\n",
        "x_test /= 255\n"
      ]
    },
    {
      "cell_type": "markdown",
      "id": "celtic-output",
      "metadata": {
        "id": "celtic-output"
      },
      "source": [
        "Convert class vectors to binary class matrices"
      ]
    },
    {
      "cell_type": "code",
      "execution_count": 9,
      "id": "confidential-incentive",
      "metadata": {
        "id": "confidential-incentive",
        "colab": {
          "base_uri": "https://localhost:8080/"
        },
        "outputId": "39b4448b-042b-4d4b-aa2a-879a3b2fd1bc"
      },
      "outputs": [
        {
          "output_type": "execute_result",
          "data": {
            "text/plain": [
              "array([0., 0., 0., 0., 0., 0., 0., 0., 1., 0.], dtype=float32)"
            ]
          },
          "metadata": {},
          "execution_count": 9
        }
      ],
      "source": [
        "num_classes = 10\n",
        "y_train = keras.utils.to_categorical(y_train, num_classes)\n",
        "y_test = keras.utils.to_categorical(y_test, num_classes)\n",
        "\n",
        "y_train[333]  # now the digit k is represented by a 1 in the kth entry (0-indexed) of the length 10 vector"
      ]
    },
    {
      "cell_type": "markdown",
      "id": "lightweight-walter",
      "metadata": {
        "id": "lightweight-walter"
      },
      "source": [
        "* Build the model with two hidden layers of size 512.\n",
        "* Use dropout of 0.2\n",
        "* Check the model summary"
      ]
    },
    {
      "cell_type": "code",
      "execution_count": 10,
      "id": "level-blair",
      "metadata": {
        "id": "level-blair"
      },
      "outputs": [],
      "source": [
        "model = Sequential()\n",
        "model.add(Dense(64, activation='relu', input_shape=(784,)))\n",
        "model.add(Dropout(0.2))\n",
        "model.add(Dense(64, activation='relu'))\n",
        "model.add(Dropout(0.2))\n",
        "model.add(Dense(10, activation='softmax'))"
      ]
    },
    {
      "cell_type": "code",
      "execution_count": 11,
      "id": "filled-class",
      "metadata": {
        "id": "filled-class",
        "colab": {
          "base_uri": "https://localhost:8080/"
        },
        "outputId": "80c54be6-33bf-403b-81d3-76946f1831b8"
      },
      "outputs": [
        {
          "output_type": "stream",
          "name": "stdout",
          "text": [
            "Model: \"sequential\"\n",
            "_________________________________________________________________\n",
            " Layer (type)                Output Shape              Param #   \n",
            "=================================================================\n",
            " dense (Dense)               (None, 64)                50240     \n",
            "                                                                 \n",
            " dropout (Dropout)           (None, 64)                0         \n",
            "                                                                 \n",
            " dense_1 (Dense)             (None, 64)                4160      \n",
            "                                                                 \n",
            " dropout_1 (Dropout)         (None, 64)                0         \n",
            "                                                                 \n",
            " dense_2 (Dense)             (None, 10)                650       \n",
            "                                                                 \n",
            "=================================================================\n",
            "Total params: 55050 (215.04 KB)\n",
            "Trainable params: 55050 (215.04 KB)\n",
            "Non-trainable params: 0 (0.00 Byte)\n",
            "_________________________________________________________________\n"
          ]
        }
      ],
      "source": [
        "model.summary()"
      ]
    },
    {
      "cell_type": "markdown",
      "id": "thrown-entry",
      "metadata": {
        "id": "thrown-entry"
      },
      "source": [
        "Compile the model using learning rate of 0.001 and optimizer of RMSprop"
      ]
    },
    {
      "cell_type": "code",
      "execution_count": 12,
      "id": "oriental-family",
      "metadata": {
        "id": "oriental-family",
        "colab": {
          "base_uri": "https://localhost:8080/"
        },
        "outputId": "9c391e8d-44f7-4056-f008-19a77cf78532"
      },
      "outputs": [
        {
          "output_type": "stream",
          "name": "stderr",
          "text": [
            "WARNING:absl:`lr` is deprecated in Keras optimizer, please use `learning_rate` or use the legacy optimizer, e.g.,tf.keras.optimizers.legacy.RMSprop.\n"
          ]
        },
        {
          "output_type": "stream",
          "name": "stdout",
          "text": [
            "Epoch 1/30\n",
            "469/469 [==============================] - 3s 4ms/step - loss: 0.5168 - accuracy: 0.8454 - val_loss: 0.2075 - val_accuracy: 0.9357\n",
            "Epoch 2/30\n",
            "469/469 [==============================] - 2s 4ms/step - loss: 0.2558 - accuracy: 0.9255 - val_loss: 0.1605 - val_accuracy: 0.9512\n",
            "Epoch 3/30\n",
            "469/469 [==============================] - 2s 4ms/step - loss: 0.2025 - accuracy: 0.9405 - val_loss: 0.1257 - val_accuracy: 0.9604\n",
            "Epoch 4/30\n",
            "469/469 [==============================] - 2s 4ms/step - loss: 0.1753 - accuracy: 0.9480 - val_loss: 0.1233 - val_accuracy: 0.9619\n",
            "Epoch 5/30\n",
            "469/469 [==============================] - 2s 3ms/step - loss: 0.1583 - accuracy: 0.9519 - val_loss: 0.1041 - val_accuracy: 0.9692\n",
            "Epoch 6/30\n",
            "469/469 [==============================] - 2s 3ms/step - loss: 0.1447 - accuracy: 0.9571 - val_loss: 0.0985 - val_accuracy: 0.9694\n",
            "Epoch 7/30\n",
            "469/469 [==============================] - 2s 3ms/step - loss: 0.1350 - accuracy: 0.9594 - val_loss: 0.0976 - val_accuracy: 0.9701\n",
            "Epoch 8/30\n",
            "469/469 [==============================] - 2s 3ms/step - loss: 0.1258 - accuracy: 0.9624 - val_loss: 0.0970 - val_accuracy: 0.9717\n",
            "Epoch 9/30\n",
            "469/469 [==============================] - 2s 3ms/step - loss: 0.1201 - accuracy: 0.9640 - val_loss: 0.0958 - val_accuracy: 0.9717\n",
            "Epoch 10/30\n",
            "469/469 [==============================] - 2s 4ms/step - loss: 0.1163 - accuracy: 0.9649 - val_loss: 0.0945 - val_accuracy: 0.9715\n",
            "Epoch 11/30\n",
            "469/469 [==============================] - 2s 4ms/step - loss: 0.1085 - accuracy: 0.9667 - val_loss: 0.0917 - val_accuracy: 0.9733\n",
            "Epoch 12/30\n",
            "469/469 [==============================] - 2s 3ms/step - loss: 0.1076 - accuracy: 0.9671 - val_loss: 0.0921 - val_accuracy: 0.9725\n",
            "Epoch 13/30\n",
            "469/469 [==============================] - 2s 3ms/step - loss: 0.1053 - accuracy: 0.9677 - val_loss: 0.0857 - val_accuracy: 0.9761\n",
            "Epoch 14/30\n",
            "469/469 [==============================] - 2s 4ms/step - loss: 0.0995 - accuracy: 0.9704 - val_loss: 0.0893 - val_accuracy: 0.9752\n",
            "Epoch 15/30\n",
            "469/469 [==============================] - 2s 3ms/step - loss: 0.1001 - accuracy: 0.9697 - val_loss: 0.0914 - val_accuracy: 0.9757\n",
            "Epoch 16/30\n",
            "469/469 [==============================] - 2s 3ms/step - loss: 0.0955 - accuracy: 0.9710 - val_loss: 0.0928 - val_accuracy: 0.9746\n",
            "Epoch 17/30\n",
            "469/469 [==============================] - 2s 4ms/step - loss: 0.0927 - accuracy: 0.9721 - val_loss: 0.0894 - val_accuracy: 0.9754\n",
            "Epoch 18/30\n",
            "469/469 [==============================] - 2s 4ms/step - loss: 0.0901 - accuracy: 0.9727 - val_loss: 0.0911 - val_accuracy: 0.9754\n",
            "Epoch 19/30\n",
            "469/469 [==============================] - 2s 3ms/step - loss: 0.0891 - accuracy: 0.9733 - val_loss: 0.0931 - val_accuracy: 0.9766\n",
            "Epoch 20/30\n",
            "469/469 [==============================] - 2s 4ms/step - loss: 0.0897 - accuracy: 0.9720 - val_loss: 0.0908 - val_accuracy: 0.9763\n",
            "Epoch 21/30\n",
            "469/469 [==============================] - 2s 3ms/step - loss: 0.0868 - accuracy: 0.9737 - val_loss: 0.0950 - val_accuracy: 0.9757\n",
            "Epoch 22/30\n",
            "469/469 [==============================] - 2s 3ms/step - loss: 0.0838 - accuracy: 0.9746 - val_loss: 0.0961 - val_accuracy: 0.9771\n",
            "Epoch 23/30\n",
            "469/469 [==============================] - 2s 3ms/step - loss: 0.0823 - accuracy: 0.9760 - val_loss: 0.0880 - val_accuracy: 0.9771\n",
            "Epoch 24/30\n",
            "469/469 [==============================] - 2s 4ms/step - loss: 0.0814 - accuracy: 0.9757 - val_loss: 0.0894 - val_accuracy: 0.9775\n",
            "Epoch 25/30\n",
            "469/469 [==============================] - 2s 5ms/step - loss: 0.0790 - accuracy: 0.9754 - val_loss: 0.1001 - val_accuracy: 0.9767\n",
            "Epoch 26/30\n",
            "469/469 [==============================] - 2s 3ms/step - loss: 0.0796 - accuracy: 0.9760 - val_loss: 0.0941 - val_accuracy: 0.9768\n",
            "Epoch 27/30\n",
            "469/469 [==============================] - 2s 3ms/step - loss: 0.0789 - accuracy: 0.9765 - val_loss: 0.0928 - val_accuracy: 0.9767\n",
            "Epoch 28/30\n",
            "469/469 [==============================] - 2s 3ms/step - loss: 0.0804 - accuracy: 0.9757 - val_loss: 0.1007 - val_accuracy: 0.9760\n",
            "Epoch 29/30\n",
            "469/469 [==============================] - 2s 3ms/step - loss: 0.0802 - accuracy: 0.9758 - val_loss: 0.0988 - val_accuracy: 0.9765\n",
            "Epoch 30/30\n",
            "469/469 [==============================] - 2s 4ms/step - loss: 0.0731 - accuracy: 0.9771 - val_loss: 0.1024 - val_accuracy: 0.9754\n"
          ]
        }
      ],
      "source": [
        "learning_rate = .001\n",
        "model.compile(loss='categorical_crossentropy',\n",
        "              optimizer=RMSprop(lr=learning_rate),\n",
        "              metrics=['accuracy'])\n",
        "batch_size = 128  # mini-batch with 128 examples\n",
        "epochs = 30\n",
        "history = model.fit(\n",
        "    x_train, y_train,\n",
        "    batch_size=batch_size,\n",
        "    epochs=epochs,\n",
        "    verbose=1,\n",
        "    validation_data=(x_test, y_test))"
      ]
    },
    {
      "cell_type": "markdown",
      "id": "forty-trout",
      "metadata": {
        "id": "forty-trout"
      },
      "source": [
        "Use Keras evaluate function to evaluate performance on the test set"
      ]
    },
    {
      "cell_type": "code",
      "execution_count": 13,
      "id": "random-ballet",
      "metadata": {
        "id": "random-ballet",
        "colab": {
          "base_uri": "https://localhost:8080/"
        },
        "outputId": "a98cdfda-5fc4-4cb4-87a7-5354cd2640ef"
      },
      "outputs": [
        {
          "output_type": "stream",
          "name": "stdout",
          "text": [
            "Test loss: 0.10237394273281097\n",
            "Test accuracy: 0.9753999710083008\n"
          ]
        }
      ],
      "source": [
        "score = model.evaluate(x_test, y_test, verbose=0)\n",
        "print('Test loss:', score[0])\n",
        "print('Test accuracy:', score[1])"
      ]
    },
    {
      "cell_type": "markdown",
      "id": "german-breed",
      "metadata": {
        "id": "german-breed"
      },
      "source": [
        "#Through shaping the data and testing it numerous times we can get a high accuracy rate of 97 percent. The learning rate of .001 also helped us achieve this value."
      ]
    },
    {
      "cell_type": "code",
      "execution_count": 14,
      "id": "imported-impression",
      "metadata": {
        "id": "imported-impression",
        "colab": {
          "base_uri": "https://localhost:8080/",
          "height": 545
        },
        "outputId": "cd801204-3809-45b3-e2dd-c6a1131f0463"
      },
      "outputs": [
        {
          "output_type": "display_data",
          "data": {
            "text/plain": [
              "<Figure size 1200x600 with 2 Axes>"
            ],
            "image/png": "[encoded data removed]"
          },
          "metadata": {}
        }
      ],
      "source": [
        "def plot_loss_accuracy(history):\n",
        "    fig = plt.figure(figsize=(12, 6))\n",
        "    ax = fig.add_subplot(1, 2, 1)\n",
        "    ax.plot(history.history[\"loss\"],'r-x', label=\"Train Loss\")\n",
        "    ax.plot(history.history[\"val_loss\"],'b-x', label=\"Validation Loss\")\n",
        "    ax.legend()\n",
        "    ax.set_title('cross_entropy loss')\n",
        "    ax.grid(True)\n",
        "\n",
        "\n",
        "    ax = fig.add_subplot(1, 2, 2)\n",
        "    ax.plot(history.history[\"accuracy\"],'r-x', label=\"Train Accuracy\")\n",
        "    ax.plot(history.history[\"val_accuracy\"],'b-x', label=\"Validation Accuracy\")\n",
        "    ax.legend()\n",
        "    ax.set_title('accuracy')\n",
        "    ax.grid(True)\n",
        "\n",
        "\n",
        "plot_loss_accuracy(history)"
      ]
    },
    {
      "cell_type": "markdown",
      "id": "acoustic-recipient",
      "metadata": {
        "id": "acoustic-recipient"
      },
      "source": [
        "Interpret the result"
      ]
    },
    {
      "cell_type": "markdown",
      "id": "cross-hotel",
      "metadata": {
        "id": "cross-hotel"
      },
      "source": [
        "#The values above gave an output of a just right graph. This means the there is nothing wrong with the dataset as well as its train and test data."
      ]
    },
    {
      "cell_type": "markdown",
      "id": "three-terrorist",
      "metadata": {
        "id": "three-terrorist"
      },
      "source": [
        "#### Supplementary Activity\n",
        "\n",
        "* Use the Keras \"Sequential\" functionality to build a new model (model_1) with the following specifications:\n",
        "\n",
        "1. Two hidden layers.\n",
        "2. First hidden layer of size 400 and second of size 300\n",
        "3. Dropout of .4 at each layer\n",
        "4. How many parameters does your model have?  How does it compare with the previous model?\n",
        "5. Train this model for 20 epochs with RMSProp at a learning rate of .001 and a batch size of 128\n",
        "6. Use at least two  regularization techniques and apply it to the new model (model_2)\n",
        "7. Train this model for your preferred epochs , learning rate, batch size and optimizer\n",
        "8. Compare the accuracy and loss (training and validation) of model_1 and model_2"
      ]
    },
    {
      "cell_type": "code",
      "execution_count": 15,
      "id": "responsible-preserve",
      "metadata": {
        "id": "responsible-preserve"
      },
      "outputs": [],
      "source": [
        "#Use the Keras \"Sequential\" functionality to build a new model (model_1) with the following specifications:\n",
        "#Two hidden layers.\n",
        "#First hidden layer of size 400 and second of size 300\n",
        "#Dropout of .4 at each layer\n",
        "\n",
        "model_1 = Sequential()\n",
        "model_1.add(Dense(400, activation='relu', input_shape=(784,)))\n",
        "model_1.add(Dropout(0.4))\n",
        "model_1.add(Dense(300, activation='relu',))\n",
        "model_1.add(Dropout(0.4))\n",
        "model_1.add(Dense(10, activation='softmax'))"
      ]
    },
    {
      "cell_type": "code",
      "source": [
        "model_1.summary()"
      ],
      "metadata": {
        "colab": {
          "base_uri": "https://localhost:8080/"
        },
        "id": "zpW5VK_SnpBZ",
        "outputId": "92f49506-901e-40a6-e535-c1bc930a3036"
      },
      "id": "zpW5VK_SnpBZ",
      "execution_count": 16,
      "outputs": [
        {
          "output_type": "stream",
          "name": "stdout",
          "text": [
            "Model: \"sequential_1\"\n",
            "_________________________________________________________________\n",
            " Layer (type)                Output Shape              Param #   \n",
            "=================================================================\n",
            " dense_3 (Dense)             (None, 400)               314000    \n",
            "                                                                 \n",
            " dropout_2 (Dropout)         (None, 400)               0         \n",
            "                                                                 \n",
            " dense_4 (Dense)             (None, 300)               120300    \n",
            "                                                                 \n",
            " dropout_3 (Dropout)         (None, 300)               0         \n",
            "                                                                 \n",
            " dense_5 (Dense)             (None, 10)                3010      \n",
            "                                                                 \n",
            "=================================================================\n",
            "Total params: 437310 (1.67 MB)\n",
            "Trainable params: 437310 (1.67 MB)\n",
            "Non-trainable params: 0 (0.00 Byte)\n",
            "_________________________________________________________________\n"
          ]
        }
      ]
    },
    {
      "cell_type": "markdown",
      "source": [
        "The summary above showed the parameters used for this model. Due to the increased in the number of hidden layers, the parameters for model_1 increased as well."
      ],
      "metadata": {
        "id": "79t_kyOpNi13"
      },
      "id": "79t_kyOpNi13"
    },
    {
      "cell_type": "code",
      "source": [
        "#Train this model for 20 epochs with RMSProp at a learning rate of .001 and a batch size of 128\n",
        "learning_rate = .001\n",
        "model_1.compile(loss='categorical_crossentropy',\n",
        "              optimizer=RMSprop(lr=learning_rate),\n",
        "              metrics=['accuracy'])\n",
        "batch_size = 128  # mini-batch with 128 examples\n",
        "epochs = 20\n",
        "history = model_1.fit(\n",
        "    x_train, y_train,\n",
        "    batch_size=batch_size,\n",
        "    epochs=epochs,\n",
        "    verbose=1,\n",
        "    validation_data=(x_test, y_test))"
      ],
      "metadata": {
        "colab": {
          "base_uri": "https://localhost:8080/"
        },
        "id": "ShR00qLQk70c",
        "outputId": "43d45048-6ae0-4116-e391-bb2cad04af56"
      },
      "id": "ShR00qLQk70c",
      "execution_count": 17,
      "outputs": [
        {
          "output_type": "stream",
          "name": "stderr",
          "text": [
            "WARNING:absl:`lr` is deprecated in Keras optimizer, please use `learning_rate` or use the legacy optimizer, e.g.,tf.keras.optimizers.legacy.RMSprop.\n"
          ]
        },
        {
          "output_type": "stream",
          "name": "stdout",
          "text": [
            "Epoch 1/20\n",
            "469/469 [==============================] - 7s 13ms/step - loss: 0.3347 - accuracy: 0.8984 - val_loss: 0.1259 - val_accuracy: 0.9619\n",
            "Epoch 2/20\n",
            "469/469 [==============================] - 5s 11ms/step - loss: 0.1537 - accuracy: 0.9542 - val_loss: 0.1017 - val_accuracy: 0.9679\n",
            "Epoch 3/20\n",
            "469/469 [==============================] - 5s 11ms/step - loss: 0.1178 - accuracy: 0.9655 - val_loss: 0.0793 - val_accuracy: 0.9746\n",
            "Epoch 4/20\n",
            "469/469 [==============================] - 6s 12ms/step - loss: 0.1011 - accuracy: 0.9698 - val_loss: 0.0729 - val_accuracy: 0.9790\n",
            "Epoch 5/20\n",
            "469/469 [==============================] - 5s 10ms/step - loss: 0.0890 - accuracy: 0.9738 - val_loss: 0.0762 - val_accuracy: 0.9764\n",
            "Epoch 6/20\n",
            "469/469 [==============================] - 6s 12ms/step - loss: 0.0794 - accuracy: 0.9768 - val_loss: 0.0692 - val_accuracy: 0.9805\n",
            "Epoch 7/20\n",
            "469/469 [==============================] - 5s 10ms/step - loss: 0.0735 - accuracy: 0.9779 - val_loss: 0.0688 - val_accuracy: 0.9807\n",
            "Epoch 8/20\n",
            "469/469 [==============================] - 6s 12ms/step - loss: 0.0670 - accuracy: 0.9803 - val_loss: 0.0632 - val_accuracy: 0.9837\n",
            "Epoch 9/20\n",
            "469/469 [==============================] - 5s 10ms/step - loss: 0.0636 - accuracy: 0.9816 - val_loss: 0.0734 - val_accuracy: 0.9811\n",
            "Epoch 10/20\n",
            "469/469 [==============================] - 7s 15ms/step - loss: 0.0587 - accuracy: 0.9831 - val_loss: 0.0618 - val_accuracy: 0.9838\n",
            "Epoch 11/20\n",
            "469/469 [==============================] - 7s 15ms/step - loss: 0.0549 - accuracy: 0.9828 - val_loss: 0.0731 - val_accuracy: 0.9817\n",
            "Epoch 12/20\n",
            "469/469 [==============================] - 9s 19ms/step - loss: 0.0528 - accuracy: 0.9841 - val_loss: 0.0680 - val_accuracy: 0.9848\n",
            "Epoch 13/20\n",
            "469/469 [==============================] - 10s 22ms/step - loss: 0.0483 - accuracy: 0.9850 - val_loss: 0.0786 - val_accuracy: 0.9824\n",
            "Epoch 14/20\n",
            "469/469 [==============================] - 8s 17ms/step - loss: 0.0464 - accuracy: 0.9865 - val_loss: 0.0667 - val_accuracy: 0.9838\n",
            "Epoch 15/20\n",
            "469/469 [==============================] - 6s 13ms/step - loss: 0.0454 - accuracy: 0.9868 - val_loss: 0.0724 - val_accuracy: 0.9847\n",
            "Epoch 16/20\n",
            "469/469 [==============================] - 6s 13ms/step - loss: 0.0444 - accuracy: 0.9868 - val_loss: 0.0749 - val_accuracy: 0.9836\n",
            "Epoch 17/20\n",
            "469/469 [==============================] - 7s 15ms/step - loss: 0.0401 - accuracy: 0.9880 - val_loss: 0.0693 - val_accuracy: 0.9832\n",
            "Epoch 18/20\n",
            "469/469 [==============================] - 6s 13ms/step - loss: 0.0421 - accuracy: 0.9875 - val_loss: 0.0733 - val_accuracy: 0.9837\n",
            "Epoch 19/20\n",
            "469/469 [==============================] - 7s 15ms/step - loss: 0.0377 - accuracy: 0.9886 - val_loss: 0.0749 - val_accuracy: 0.9844\n",
            "Epoch 20/20\n",
            "469/469 [==============================] - 6s 13ms/step - loss: 0.0367 - accuracy: 0.9889 - val_loss: 0.0802 - val_accuracy: 0.9843\n"
          ]
        }
      ]
    },
    {
      "cell_type": "code",
      "source": [
        "#Use at least two regularization techniques and apply it to the new model (model_2)\n",
        "\n",
        "model_2 = Sequential()\n",
        "model_2.add(Dense(300, activation='tanh', input_shape=(784,)))\n",
        "model_2.add(Dropout(0.4))\n",
        "model_2.add(Dense(300, activation='sigmoid',))\n",
        "model_2.add(Dropout(0.4))\n",
        "model_2.add(Dense(10, activation='softmax'))"
      ],
      "metadata": {
        "id": "17-jbXjDo5HM"
      },
      "id": "17-jbXjDo5HM",
      "execution_count": 26,
      "outputs": []
    },
    {
      "cell_type": "code",
      "source": [
        "model_2.summary()"
      ],
      "metadata": {
        "colab": {
          "base_uri": "https://localhost:8080/"
        },
        "id": "vviLmYkWNyVZ",
        "outputId": "143708f2-7040-4b77-f4ea-5f786a28294a"
      },
      "id": "vviLmYkWNyVZ",
      "execution_count": 27,
      "outputs": [
        {
          "output_type": "stream",
          "name": "stdout",
          "text": [
            "Model: \"sequential_4\"\n",
            "_________________________________________________________________\n",
            " Layer (type)                Output Shape              Param #   \n",
            "=================================================================\n",
            " dense_12 (Dense)            (None, 300)               235500    \n",
            "                                                                 \n",
            " dropout_8 (Dropout)         (None, 300)               0         \n",
            "                                                                 \n",
            " dense_13 (Dense)            (None, 300)               90300     \n",
            "                                                                 \n",
            " dropout_9 (Dropout)         (None, 300)               0         \n",
            "                                                                 \n",
            " dense_14 (Dense)            (None, 10)                3010      \n",
            "                                                                 \n",
            "=================================================================\n",
            "Total params: 328810 (1.25 MB)\n",
            "Trainable params: 328810 (1.25 MB)\n",
            "Non-trainable params: 0 (0.00 Byte)\n",
            "_________________________________________________________________\n"
          ]
        }
      ]
    },
    {
      "cell_type": "code",
      "source": [
        "#Train this model for 20 epochs with RMSProp at a learning rate of .001 and a batch size of 128\n",
        "learning_rate = .01\n",
        "model_2.compile(loss='categorical_crossentropy',\n",
        "              optimizer=RMSprop(lr=learning_rate),\n",
        "              metrics=['accuracy'])\n",
        "batch_size = 50  # mini-batch with 150 examples\n",
        "epochs = 10\n",
        "history = model_2.fit(\n",
        "    x_train, y_train,\n",
        "    batch_size=batch_size,\n",
        "    epochs=epochs,\n",
        "    verbose=1,\n",
        "    validation_data=(x_test, y_test))"
      ],
      "metadata": {
        "id": "2fw4p7ZirWCx",
        "colab": {
          "base_uri": "https://localhost:8080/"
        },
        "outputId": "649021dd-d393-47a3-bb11-5542c77824d3"
      },
      "id": "2fw4p7ZirWCx",
      "execution_count": 28,
      "outputs": [
        {
          "output_type": "stream",
          "name": "stderr",
          "text": [
            "WARNING:absl:`lr` is deprecated in Keras optimizer, please use `learning_rate` or use the legacy optimizer, e.g.,tf.keras.optimizers.legacy.RMSprop.\n"
          ]
        },
        {
          "output_type": "stream",
          "name": "stdout",
          "text": [
            "Epoch 1/10\n",
            "1200/1200 [==============================] - 9s 7ms/step - loss: 0.3826 - accuracy: 0.8856 - val_loss: 0.1973 - val_accuracy: 0.9391\n",
            "Epoch 2/10\n",
            "1200/1200 [==============================] - 7s 6ms/step - loss: 0.2154 - accuracy: 0.9349 - val_loss: 0.1356 - val_accuracy: 0.9582\n",
            "Epoch 3/10\n",
            "1200/1200 [==============================] - 8s 6ms/step - loss: 0.1702 - accuracy: 0.9492 - val_loss: 0.1243 - val_accuracy: 0.9609\n",
            "Epoch 4/10\n",
            "1200/1200 [==============================] - 8s 7ms/step - loss: 0.1421 - accuracy: 0.9574 - val_loss: 0.1099 - val_accuracy: 0.9653\n",
            "Epoch 5/10\n",
            "1200/1200 [==============================] - 7s 6ms/step - loss: 0.1254 - accuracy: 0.9622 - val_loss: 0.0943 - val_accuracy: 0.9705\n",
            "Epoch 6/10\n",
            "1200/1200 [==============================] - 8s 7ms/step - loss: 0.1140 - accuracy: 0.9657 - val_loss: 0.0873 - val_accuracy: 0.9740\n",
            "Epoch 7/10\n",
            "1200/1200 [==============================] - 8s 7ms/step - loss: 0.1074 - accuracy: 0.9679 - val_loss: 0.0823 - val_accuracy: 0.9756\n",
            "Epoch 8/10\n",
            "1200/1200 [==============================] - 7s 6ms/step - loss: 0.0999 - accuracy: 0.9698 - val_loss: 0.0761 - val_accuracy: 0.9770\n",
            "Epoch 9/10\n",
            "1200/1200 [==============================] - 8s 7ms/step - loss: 0.0908 - accuracy: 0.9729 - val_loss: 0.0780 - val_accuracy: 0.9774\n",
            "Epoch 10/10\n",
            "1200/1200 [==============================] - 7s 6ms/step - loss: 0.0881 - accuracy: 0.9737 - val_loss: 0.0796 - val_accuracy: 0.9768\n"
          ]
        }
      ]
    },
    {
      "cell_type": "code",
      "source": [
        "score1 = model_1.evaluate(x_test, y_test, verbose=0)\n",
        "print('Test loss for model 1:', score1[0])\n",
        "print('Test accuracy for model 1:', score1[1])"
      ],
      "metadata": {
        "id": "kfRwxBtctrg8",
        "colab": {
          "base_uri": "https://localhost:8080/"
        },
        "outputId": "4fbe4503-9366-4c81-faab-1ea4fdc49527"
      },
      "id": "kfRwxBtctrg8",
      "execution_count": 31,
      "outputs": [
        {
          "output_type": "stream",
          "name": "stdout",
          "text": [
            "Test loss for model 1: 0.08021505922079086\n",
            "Test accuracy for model 1: 0.9843000173568726\n"
          ]
        }
      ]
    },
    {
      "cell_type": "code",
      "source": [
        "score_2 = model_2.evaluate(x_test, y_test, verbose=0)\n",
        "print('Test loss for model 2:', score_2[0])\n",
        "print('Test accuracy for model 2:', score_2[1])"
      ],
      "metadata": {
        "id": "_N5O8v2svH3q",
        "colab": {
          "base_uri": "https://localhost:8080/"
        },
        "outputId": "004f47e4-3001-4855-92d5-9ed5f0169bbe"
      },
      "id": "_N5O8v2svH3q",
      "execution_count": 32,
      "outputs": [
        {
          "output_type": "stream",
          "name": "stdout",
          "text": [
            "Test loss for model 2: 0.07956195622682571\n",
            "Test accuracy for model 2: 0.9768000245094299\n"
          ]
        }
      ]
    },
    {
      "cell_type": "markdown",
      "id": "classified-campaign",
      "metadata": {
        "id": "classified-campaign"
      },
      "source": [
        "#### Conclusion"
      ]
    },
    {
      "cell_type": "markdown",
      "id": "relevant-thunder",
      "metadata": {
        "id": "relevant-thunder"
      },
      "source": [
        "During this activity, I was able to understand how different activation function can give different results. This also showed me the big difference of training an imported dataset from the one we made ourselves. Imported datasets usually give better results due to their data."
      ]
    }
  ],
  "metadata": {
    "kernelspec": {
      "display_name": "Python 3",
      "language": "python",
      "name": "python3"
    },
    "language_info": {
      "codemirror_mode": {
        "name": "ipython",
        "version": 3
      },
      "file_extension": ".py",
      "mimetype": "text/x-python",
      "name": "python",
      "nbconvert_exporter": "python",
      "pygments_lexer": "ipython3",
      "version": "3.7.10"
    },
    "colab": {
      "provenance": []
    }
  },
  "nbformat": 4,
  "nbformat_minor": 5
}