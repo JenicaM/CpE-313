{
  "nbformat": 4,
  "nbformat_minor": 0,
  "metadata": {
    "colab": {
      "provenance": []
    },
    "kernelspec": {
      "name": "python3",
      "display_name": "Python 3"
    },
    "language_info": {
      "name": "python"
    }
  },
  "cells": [
    {
      "cell_type": "code",
      "source": [
        "import numpy as np"
      ],
      "metadata": {
        "id": "Odj7uB6BK_E_"
      },
      "execution_count": 10,
      "outputs": []
    },
    {
      "cell_type": "code",
      "execution_count": 91,
      "metadata": {
        "id": "TzkECyRIIfIj"
      },
      "outputs": [],
      "source": [
        "class Neuron:\n",
        "\n",
        "    def __init__ (self, weight1, weight2):\n",
        "      self.weight1 = weight1\n",
        "      self.weight2 = weight2\n",
        "\n",
        "    def add(self):\n",
        "      n = self.weight1 + self.weight2\n",
        "      print(n)\n",
        "\n",
        "    def sigmoid(self, x):\n",
        "      return 1.0 / (1.0 + np.exp(-x))\n",
        "\n",
        "    def relu(self, x):\n",
        "        return (x > 0) * x\n",
        ""
      ]
    },
    {
      "cell_type": "code",
      "source": [
        "p1 = Neuron(.5, .6)"
      ],
      "metadata": {
        "id": "1_onW3JXSIFe"
      },
      "execution_count": 92,
      "outputs": []
    },
    {
      "cell_type": "code",
      "source": [
        "p1.add()"
      ],
      "metadata": {
        "colab": {
          "base_uri": "https://localhost:8080/",
          "height": 0
        },
        "id": "8GURM2l2SV7F",
        "outputId": "cde44b1e-0578-44c9-e835-4db48666ce2d"
      },
      "execution_count": 93,
      "outputs": [
        {
          "output_type": "stream",
          "name": "stdout",
          "text": [
            "1.1\n"
          ]
        }
      ]
    },
    {
      "cell_type": "code",
      "source": [
        "p1.sigmoid(3)"
      ],
      "metadata": {
        "colab": {
          "base_uri": "https://localhost:8080/",
          "height": 0
        },
        "id": "gthJpz4-UAf0",
        "outputId": "aca84f6d-9b13-4922-fa48-0b796392505f"
      },
      "execution_count": 94,
      "outputs": [
        {
          "output_type": "execute_result",
          "data": {
            "text/plain": [
              "0.9525741268224334"
            ]
          },
          "metadata": {},
          "execution_count": 94
        }
      ]
    },
    {
      "cell_type": "code",
      "source": [
        "p1.relu(5)"
      ],
      "metadata": {
        "colab": {
          "base_uri": "https://localhost:8080/",
          "height": 0
        },
        "id": "cIiYSi_dUVQ8",
        "outputId": "3a69e014-892b-4cd5-e597-61c8ec002b38"
      },
      "execution_count": 98,
      "outputs": [
        {
          "output_type": "execute_result",
          "data": {
            "text/plain": [
              "5"
            ]
          },
          "metadata": {},
          "execution_count": 98
        }
      ]
    },
    {
      "cell_type": "code",
      "source": [
        "p1.relu(-5)"
      ],
      "metadata": {
        "colab": {
          "base_uri": "https://localhost:8080/",
          "height": 0
        },
        "id": "OZnDFM7JVXq8",
        "outputId": "a2108cae-ac40-4e7e-8dcc-bbc19f02d945"
      },
      "execution_count": 97,
      "outputs": [
        {
          "output_type": "execute_result",
          "data": {
            "text/plain": [
              "0"
            ]
          },
          "metadata": {},
          "execution_count": 97
        }
      ]
    },
    {
      "cell_type": "markdown",
      "source": [],
      "metadata": {
        "id": "s-2nKS8iY6rL"
      }
    },
    {
      "cell_type": "markdown",
      "source": [],
      "metadata": {
        "id": "YABdSLsLY6Vd"
      }
    }
  ]
}